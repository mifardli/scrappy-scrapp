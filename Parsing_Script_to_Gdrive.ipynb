{
  "nbformat": 4,
  "nbformat_minor": 0,
  "metadata": {
    "colab": {
      "provenance": [],
      "mount_file_id": "1tpY2FarEeTWSluSkNJYK4QyZsUBiGTqF",
      "authorship_tag": "ABX9TyNtO0Te3aPfixF5rQE9/321",
      "include_colab_link": true
    },
    "kernelspec": {
      "name": "python3",
      "display_name": "Python 3"
    },
    "language_info": {
      "name": "python"
    }
  },
  "cells": [
    {
      "cell_type": "markdown",
      "metadata": {
        "id": "view-in-github",
        "colab_type": "text"
      },
      "source": [
        "<a href=\"https://colab.research.google.com/github/mifardli/scrappy-scrapp/blob/main/Parsing_Script_to_Gdrive.ipynb\" target=\"_parent\"><img src=\"https://colab.research.google.com/assets/colab-badge.svg\" alt=\"Open In Colab\"/></a>"
      ]
    },
    {
      "cell_type": "code",
      "execution_count": 7,
      "metadata": {
        "colab": {
          "base_uri": "https://localhost:8080/"
        },
        "id": "Pf5TcnDbySYz",
        "outputId": "73624212-2635-4d17-9f5b-0ec82c07be5d"
      },
      "outputs": [
        {
          "output_type": "stream",
          "name": "stdout",
          "text": [
            "Downloaded http://doranobi.my.id:8080/koleksiDNFI/SUB%20INDO/263.mkv to /content/drive/My Drive/Doraemonsubs/263.mkv\n",
            "Downloaded http://doranobi.my.id:8080/koleksiDNFI/SUB%20INDO/277.mkv to /content/drive/My Drive/Doraemonsubs/277.mkv\n",
            "Downloaded http://doranobi.my.id:8080/koleksiDNFI/SUB%20INDO/307.mkv to /content/drive/My Drive/Doraemonsubs/307.mkv\n",
            "Downloaded http://doranobi.my.id:8080/koleksiDNFI/SUB%20INDO/317.mkv to /content/drive/My Drive/Doraemonsubs/317.mkv\n",
            "Downloaded http://doranobi.my.id:8080/koleksiDNFI/SUB%20INDO/375.mkv to /content/drive/My Drive/Doraemonsubs/375.mkv\n",
            "Downloaded http://doranobi.my.id:8080/koleksiDNFI/SUB%20INDO/402.mkv to /content/drive/My Drive/Doraemonsubs/402.mkv\n",
            "Downloaded http://doranobi.my.id:8080/koleksiDNFI/SUB%20INDO/410.mkv to /content/drive/My Drive/Doraemonsubs/410.mkv\n",
            "Downloaded http://doranobi.my.id:8080/koleksiDNFI/SUB%20INDO/414.mkv to /content/drive/My Drive/Doraemonsubs/414.mkv\n",
            "Downloaded http://doranobi.my.id:8080/koleksiDNFI/SUB%20INDO/423.mkv to /content/drive/My Drive/Doraemonsubs/423.mkv\n",
            "Downloaded http://doranobi.my.id:8080/koleksiDNFI/SUB%20INDO/440.mkv to /content/drive/My Drive/Doraemonsubs/440.mkv\n",
            "Downloaded http://doranobi.my.id:8080/koleksiDNFI/SUB%20INDO/450.mkv to /content/drive/My Drive/Doraemonsubs/450.mkv\n",
            "Downloaded http://doranobi.my.id:8080/koleksiDNFI/SUB%20INDO/451.mkv to /content/drive/My Drive/Doraemonsubs/451.mkv\n"
          ]
        }
      ],
      "source": [
        "import requests\n",
        "import shutil\n",
        "\n",
        "# Function to download a file given its URL\n",
        "def download_file(url, file_path):\n",
        "    with requests.get(url, stream=True) as response:\n",
        "        with open(file_path, 'wb') as file:\n",
        "            shutil.copyfileobj(response.raw, file)\n",
        "\n",
        "# URLs of the files you want to download\n",
        "urls = [\n",
        "    'http://doranobi.my.id:8080/koleksiDNFI/SUB%20INDO/263.mkv',\n",
        "    'http://doranobi.my.id:8080/koleksiDNFI/SUB%20INDO/277.mkv',\n",
        "    'http://doranobi.my.id:8080/koleksiDNFI/SUB%20INDO/307.mkv',\n",
        "    'http://doranobi.my.id:8080/koleksiDNFI/SUB%20INDO/317.mkv',\n",
        "    'http://doranobi.my.id:8080/koleksiDNFI/SUB%20INDO/375.mkv',\n",
        "    'http://doranobi.my.id:8080/koleksiDNFI/SUB%20INDO/402.mkv',\n",
        "    'http://doranobi.my.id:8080/koleksiDNFI/SUB%20INDO/410.mkv',\n",
        "    'http://doranobi.my.id:8080/koleksiDNFI/SUB%20INDO/414.mkv',\n",
        "    'http://doranobi.my.id:8080/koleksiDNFI/SUB%20INDO/423.mkv',\n",
        "    'http://doranobi.my.id:8080/koleksiDNFI/SUB%20INDO/440.mkv',\n",
        "    'http://doranobi.my.id:8080/koleksiDNFI/SUB%20INDO/450.mkv',\n",
        "    'http://doranobi.my.id:8080/koleksiDNFI/SUB%20INDO/451.mkv',\n",
        "    # Add more URLs if needed\n",
        "]\n",
        "\n",
        "# File paths in your Google Drive where you want to save the downloaded files\n",
        "file_paths = [\n",
        "    '/content/drive/My Drive/Doraemonsubs/263.mkv',\n",
        "    '/content/drive/My Drive/Doraemonsubs/277.mkv',\n",
        "    '/content/drive/My Drive/Doraemonsubs/307.mkv',\n",
        "    '/content/drive/My Drive/Doraemonsubs/317.mkv',\n",
        "    '/content/drive/My Drive/Doraemonsubs/375.mkv',\n",
        "    '/content/drive/My Drive/Doraemonsubs/402.mkv',\n",
        "    '/content/drive/My Drive/Doraemonsubs/410.mkv',\n",
        "    '/content/drive/My Drive/Doraemonsubs/414.mkv',\n",
        "    '/content/drive/My Drive/Doraemonsubs/423.mkv',\n",
        "    '/content/drive/My Drive/Doraemonsubs/440.mkv',\n",
        "    '/content/drive/My Drive/Doraemonsubs/450.mkv',\n",
        "    '/content/drive/My Drive/Doraemonsubs/451.mkv',\n",
        "    # Ensure to change the paths and filenames accordingly\n",
        "]\n",
        "\n",
        "# Download each file\n",
        "for url, file_path in zip(urls, file_paths):\n",
        "    download_file(url, file_path)\n",
        "    print(f\"Downloaded {url} to {file_path}\")\n"
      ]
    },
    {
      "cell_type": "code",
      "source": [],
      "metadata": {
        "id": "wJEtekSozA6b"
      },
      "execution_count": null,
      "outputs": []
    }
  ]
}