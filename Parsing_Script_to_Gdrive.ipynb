{
  "nbformat": 4,
  "nbformat_minor": 0,
  "metadata": {
    "colab": {
      "provenance": [],
      "mount_file_id": "1tpY2FarEeTWSluSkNJYK4QyZsUBiGTqF",
      "authorship_tag": "ABX9TyOkCT4PQXXa8OWSy9Ui3Kg7",
      "include_colab_link": true
    },
    "kernelspec": {
      "name": "python3",
      "display_name": "Python 3"
    },
    "language_info": {
      "name": "python"
    }
  },
  "cells": [
    {
      "cell_type": "markdown",
      "metadata": {
        "id": "view-in-github",
        "colab_type": "text"
      },
      "source": [
        "<a href=\"https://colab.research.google.com/github/mifardli/scrappy-scrapp/blob/main/Parsing_Script_to_Gdrive.ipynb\" target=\"_parent\"><img src=\"https://colab.research.google.com/assets/colab-badge.svg\" alt=\"Open In Colab\"/></a>"
      ]
    },
    {
      "cell_type": "code",
      "execution_count": null,
      "metadata": {
        "colab": {
          "base_uri": "https://localhost:8080/"
        },
        "id": "Pf5TcnDbySYz",
        "outputId": "4656a5c2-bbbb-4445-e138-afe79d3f9fb8"
      },
      "outputs": [
        {
          "output_type": "stream",
          "name": "stdout",
          "text": [
            "Downloaded http://doranobi.my.id:8080/koleksiDNFI/SUB%20INDO/1.mkv to /content/drive/My Drive/Doraemonsubs/1.mkv\n",
            "Downloaded http://doranobi.my.id:8080/koleksiDNFI/SUB%20INDO/15.mkv to /content/drive/My Drive/Doraemonsubs/15.mkv\n",
            "Downloaded http://doranobi.my.id:8080/koleksiDNFI/SUB%20INDO/16.mkv to /content/drive/My Drive/Doraemonsubs/16.mkv\n",
            "Downloaded http://doranobi.my.id:8080/koleksiDNFI/SUB%20INDO/30.mkv to /content/drive/My Drive/Doraemonsubs/30.mkv\n",
            "Downloaded http://doranobi.my.id:8080/koleksiDNFI/SUB%20INDO/34.mkv to /content/drive/My Drive/Doraemonsubs/34.mkv\n",
            "Downloaded http://doranobi.my.id:8080/koleksiDNFI/SUB%20INDO/62.mkv to /content/drive/My Drive/Doraemonsubs/62.mkv\n",
            "Downloaded http://doranobi.my.id:8080/koleksiDNFI/SUB%20INDO/74.mkv to /content/drive/My Drive/Doraemonsubs/74.mkv\n"
          ]
        }
      ],
      "source": [
        "import requests\n",
        "import shutil\n",
        "\n",
        "# Function to download a file given its URL\n",
        "def download_file(url, file_path):\n",
        "    with requests.get(url, stream=True) as response:\n",
        "        with open(file_path, 'wb') as file:\n",
        "            shutil.copyfileobj(response.raw, file)\n",
        "\n",
        "# URLs of the files you want to download\n",
        "urls = [\n",
        "    'http://doranobi.my.id:8080/koleksiDNFI/SUB%20INDO/1.mkv',\n",
        "    'http://doranobi.my.id:8080/koleksiDNFI/SUB%20INDO/15.mkv',\n",
        "    'http://doranobi.my.id:8080/koleksiDNFI/SUB%20INDO/16.mkv',\n",
        "    'http://doranobi.my.id:8080/koleksiDNFI/SUB%20INDO/30.mkv',\n",
        "    'http://doranobi.my.id:8080/koleksiDNFI/SUB%20INDO/34.mkv',\n",
        "    'http://doranobi.my.id:8080/koleksiDNFI/SUB%20INDO/62.mkv',\n",
        "    'http://doranobi.my.id:8080/koleksiDNFI/SUB%20INDO/74.mkv',\n",
        "    'http://doranobi.my.id:8080/koleksiDNFI/SUB%20INDO/174.mkv',\n",
        "    'http://doranobi.my.id:8080/koleksiDNFI/SUB%20INDO/185.mkv',\n",
        "    'http://doranobi.my.id:8080/koleksiDNFI/SUB%20INDO/234.mkv',\n",
        "    'http://doranobi.my.id:8080/koleksiDNFI/SUB%20INDO/245a.mkv',\n",
        "    'http://doranobi.my.id:8080/koleksiDNFI/SUB%20INDO/256.mkv',\n",
        "    # Add more URLs if needed\n",
        "]\n",
        "\n",
        "# File paths in your Google Drive where you want to save the downloaded files\n",
        "file_paths = [\n",
        "    '/content/drive/My Drive/Doraemonsubs/1.mkv',\n",
        "    '/content/drive/My Drive/Doraemonsubs/15.mkv',\n",
        "    '/content/drive/My Drive/Doraemonsubs/16.mkv',\n",
        "    '/content/drive/My Drive/Doraemonsubs/30.mkv',\n",
        "    '/content/drive/My Drive/Doraemonsubs/34.mkv',\n",
        "    '/content/drive/My Drive/Doraemonsubs/62.mkv',\n",
        "    '/content/drive/My Drive/Doraemonsubs/74.mkv',\n",
        "    '/content/drive/My Drive/Doraemonsubs/174.mkv',\n",
        "    '/content/drive/My Drive/Doraemonsubs/185.mkv',\n",
        "    '/content/drive/My Drive/Doraemonsubs/234.mkv',\n",
        "    '/content/drive/My Drive/Doraemonsubs/245a.mkv',\n",
        "    '/content/drive/My Drive/Doraemonsubs/256.mkv',\n",
        "    # Ensure to change the paths and filenames accordingly\n",
        "]\n",
        "\n",
        "# Download each file\n",
        "for url, file_path in zip(urls, file_paths):\n",
        "    download_file(url, file_path)\n",
        "    print(f\"Downloaded {url} to {file_path}\")\n"
      ]
    },
    {
      "cell_type": "code",
      "source": [],
      "metadata": {
        "id": "wJEtekSozA6b"
      },
      "execution_count": null,
      "outputs": []
    }
  ]
}