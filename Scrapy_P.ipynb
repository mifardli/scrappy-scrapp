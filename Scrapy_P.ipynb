{
  "nbformat": 4,
  "nbformat_minor": 0,
  "metadata": {
    "colab": {
      "name": "Scrapy sample.ipynb",
      "provenance": []
    },
    "kernelspec": {
      "name": "python3",
      "display_name": "Python 3"
    },
    "language_info": {
      "name": "python"
    }
  },
  "cells": [
    {
      "cell_type": "code",
      "source": [
        "!pip install scrapy"
      ],
      "metadata": {
        "colab": {
          "base_uri": "https://localhost:8080/"
        },
        "id": "fCBEmb99bD5K",
        "outputId": "36539040-e04a-4707-db9f-b99d42f1d180"
      },
      "execution_count": 1,
      "outputs": [
        {
          "output_type": "stream",
          "name": "stdout",
          "text": [
            "Looking in indexes: https://pypi.org/simple, https://us-python.pkg.dev/colab-wheels/public/simple/\n",
            "Collecting scrapy\n",
            "  Downloading Scrapy-2.6.1-py2.py3-none-any.whl (264 kB)\n",
            "\u001b[K     |████████████████████████████████| 264 kB 5.0 MB/s \n",
            "\u001b[?25hRequirement already satisfied: lxml>=3.5.0 in /usr/local/lib/python3.7/dist-packages (from scrapy) (4.2.6)\n",
            "Collecting itemloaders>=1.0.1\n",
            "  Downloading itemloaders-1.0.4-py3-none-any.whl (11 kB)\n",
            "Collecting protego>=0.1.15\n",
            "  Downloading Protego-0.2.1-py2.py3-none-any.whl (8.2 kB)\n",
            "Collecting cryptography>=2.0\n",
            "  Downloading cryptography-37.0.4-cp36-abi3-manylinux_2_24_x86_64.whl (4.1 MB)\n",
            "\u001b[K     |████████████████████████████████| 4.1 MB 57.6 MB/s \n",
            "\u001b[?25hCollecting tldextract\n",
            "  Downloading tldextract-3.3.1-py3-none-any.whl (93 kB)\n",
            "\u001b[K     |████████████████████████████████| 93 kB 2.1 MB/s \n",
            "\u001b[?25hCollecting pyOpenSSL>=16.2.0\n",
            "  Downloading pyOpenSSL-22.0.0-py2.py3-none-any.whl (55 kB)\n",
            "\u001b[K     |████████████████████████████████| 55 kB 4.4 MB/s \n",
            "\u001b[?25hCollecting parsel>=1.5.0\n",
            "  Downloading parsel-1.6.0-py2.py3-none-any.whl (13 kB)\n",
            "Collecting queuelib>=1.4.2\n",
            "  Downloading queuelib-1.6.2-py2.py3-none-any.whl (13 kB)\n",
            "Collecting itemadapter>=0.1.0\n",
            "  Downloading itemadapter-0.6.0-py3-none-any.whl (10 kB)\n",
            "Collecting PyDispatcher>=2.0.5\n",
            "  Downloading PyDispatcher-2.0.5.zip (47 kB)\n",
            "\u001b[K     |████████████████████████████████| 47 kB 4.5 MB/s \n",
            "\u001b[?25hCollecting cssselect>=0.9.1\n",
            "  Downloading cssselect-1.1.0-py2.py3-none-any.whl (16 kB)\n",
            "Collecting zope.interface>=4.1.3\n",
            "  Downloading zope.interface-5.4.0-cp37-cp37m-manylinux2010_x86_64.whl (251 kB)\n",
            "\u001b[K     |████████████████████████████████| 251 kB 56.6 MB/s \n",
            "\u001b[?25hCollecting w3lib>=1.17.0\n",
            "  Downloading w3lib-1.22.0-py2.py3-none-any.whl (20 kB)\n",
            "Requirement already satisfied: setuptools in /usr/local/lib/python3.7/dist-packages (from scrapy) (57.4.0)\n",
            "Collecting service-identity>=16.0.0\n",
            "  Downloading service_identity-21.1.0-py2.py3-none-any.whl (12 kB)\n",
            "Collecting Twisted>=17.9.0\n",
            "  Downloading Twisted-22.4.0-py3-none-any.whl (3.1 MB)\n",
            "\u001b[K     |████████████████████████████████| 3.1 MB 36.4 MB/s \n",
            "\u001b[?25hRequirement already satisfied: cffi>=1.12 in /usr/local/lib/python3.7/dist-packages (from cryptography>=2.0->scrapy) (1.15.1)\n",
            "Requirement already satisfied: pycparser in /usr/local/lib/python3.7/dist-packages (from cffi>=1.12->cryptography>=2.0->scrapy) (2.21)\n",
            "Collecting jmespath>=0.9.5\n",
            "  Downloading jmespath-1.0.1-py3-none-any.whl (20 kB)\n",
            "Requirement already satisfied: six>=1.6.0 in /usr/local/lib/python3.7/dist-packages (from parsel>=1.5.0->scrapy) (1.15.0)\n",
            "Requirement already satisfied: attrs>=19.1.0 in /usr/local/lib/python3.7/dist-packages (from service-identity>=16.0.0->scrapy) (21.4.0)\n",
            "Requirement already satisfied: pyasn1-modules in /usr/local/lib/python3.7/dist-packages (from service-identity>=16.0.0->scrapy) (0.2.8)\n",
            "Requirement already satisfied: pyasn1 in /usr/local/lib/python3.7/dist-packages (from service-identity>=16.0.0->scrapy) (0.4.8)\n",
            "Collecting incremental>=21.3.0\n",
            "  Downloading incremental-21.3.0-py2.py3-none-any.whl (15 kB)\n",
            "Collecting Automat>=0.8.0\n",
            "  Downloading Automat-20.2.0-py2.py3-none-any.whl (31 kB)\n",
            "Requirement already satisfied: typing-extensions>=3.6.5 in /usr/local/lib/python3.7/dist-packages (from Twisted>=17.9.0->scrapy) (4.1.1)\n",
            "Collecting hyperlink>=17.1.1\n",
            "  Downloading hyperlink-21.0.0-py2.py3-none-any.whl (74 kB)\n",
            "\u001b[K     |████████████████████████████████| 74 kB 3.4 MB/s \n",
            "\u001b[?25hCollecting constantly>=15.1\n",
            "  Downloading constantly-15.1.0-py2.py3-none-any.whl (7.9 kB)\n",
            "Requirement already satisfied: idna>=2.5 in /usr/local/lib/python3.7/dist-packages (from hyperlink>=17.1.1->Twisted>=17.9.0->scrapy) (2.10)\n",
            "Requirement already satisfied: requests>=2.1.0 in /usr/local/lib/python3.7/dist-packages (from tldextract->scrapy) (2.23.0)\n",
            "Requirement already satisfied: filelock>=3.0.8 in /usr/local/lib/python3.7/dist-packages (from tldextract->scrapy) (3.7.1)\n",
            "Collecting requests-file>=1.4\n",
            "  Downloading requests_file-1.5.1-py2.py3-none-any.whl (3.7 kB)\n",
            "Requirement already satisfied: chardet<4,>=3.0.2 in /usr/local/lib/python3.7/dist-packages (from requests>=2.1.0->tldextract->scrapy) (3.0.4)\n",
            "Requirement already satisfied: urllib3!=1.25.0,!=1.25.1,<1.26,>=1.21.1 in /usr/local/lib/python3.7/dist-packages (from requests>=2.1.0->tldextract->scrapy) (1.24.3)\n",
            "Requirement already satisfied: certifi>=2017.4.17 in /usr/local/lib/python3.7/dist-packages (from requests>=2.1.0->tldextract->scrapy) (2022.6.15)\n",
            "Building wheels for collected packages: PyDispatcher\n",
            "  Building wheel for PyDispatcher (setup.py) ... \u001b[?25l\u001b[?25hdone\n",
            "  Created wheel for PyDispatcher: filename=PyDispatcher-2.0.5-py3-none-any.whl size=11516 sha256=ad0c27432a3374564d51342dd92f49660991af2457c80dcf92cfc4169e59fcd7\n",
            "  Stored in directory: /root/.cache/pip/wheels/2d/18/21/3c6a732eaa69a339198e08bb63b7da2c45933a3428b29ec454\n",
            "Successfully built PyDispatcher\n",
            "Installing collected packages: w3lib, cssselect, zope.interface, requests-file, parsel, jmespath, itemadapter, incremental, hyperlink, cryptography, constantly, Automat, Twisted, tldextract, service-identity, queuelib, pyOpenSSL, PyDispatcher, protego, itemloaders, scrapy\n",
            "Successfully installed Automat-20.2.0 PyDispatcher-2.0.5 Twisted-22.4.0 constantly-15.1.0 cryptography-37.0.4 cssselect-1.1.0 hyperlink-21.0.0 incremental-21.3.0 itemadapter-0.6.0 itemloaders-1.0.4 jmespath-1.0.1 parsel-1.6.0 protego-0.2.1 pyOpenSSL-22.0.0 queuelib-1.6.2 requests-file-1.5.1 scrapy-2.6.1 service-identity-21.1.0 tldextract-3.3.1 w3lib-1.22.0 zope.interface-5.4.0\n"
          ]
        }
      ]
    },
    {
      "cell_type": "code",
      "execution_count": 2,
      "metadata": {
        "id": "9g6AgiNmaVUh"
      },
      "outputs": [],
      "source": [
        "# Import a scrapy Selector\n",
        "from scrapy import Selector\n",
        "\n",
        "# Import requests\n",
        "import requests"
      ]
    },
    {
      "cell_type": "code",
      "source": [
        "url = \"https://sport.detik.com/sepakbola/liga-spanyol/d-6194879/duh-eden-hazard-terkapar-kena-tekel-rekan-barunya-di-real-madrid\""
      ],
      "metadata": {
        "id": "40cfu0o-aW3f"
      },
      "execution_count": 3,
      "outputs": []
    },
    {
      "cell_type": "code",
      "source": [
        "html = requests.get(url).content"
      ],
      "metadata": {
        "id": "fiKYOLNTaj1K"
      },
      "execution_count": 4,
      "outputs": []
    },
    {
      "cell_type": "code",
      "source": [
        "sel = Selector (text = html)"
      ],
      "metadata": {
        "id": "3GBwm6mwasBA"
      },
      "execution_count": 5,
      "outputs": []
    },
    {
      "cell_type": "code",
      "source": [
        "sel.xpath(\"//p\").extract()"
      ],
      "metadata": {
        "colab": {
          "base_uri": "https://localhost:8080/"
        },
        "id": "ucq3T8fta0q_",
        "outputId": "87e2c725-e2da-4263-9e61-b101cee109c5"
      },
      "execution_count": 8,
      "outputs": [
        {
          "output_type": "execute_result",
          "data": {
            "text/plain": [
              "['<p id=\"adv-caption-lead\" style=\"font-family: montserrat, helvetica, arial;font-size: 11px;padding: 5px 0px;background-color: rgb(232 231 236);color: #4d4b4b;margin: 0px auto -10px;position: relative;left: 0px;right: 0px;text-align: center;width: 750px;font-weight: bold;\">\\r\\n    ADVERTISEMENT\\r\\n</p>',\n",
              " '<p>Dalam latihan pramusim, ada momen yang bikin jantung fans <strong><a href=\"https://www.detik.com/tag/real-madrid\">Real Madrid</a></strong> bak terhenti. Tekel <strong><a href=\"https://www.detik.com/tag/antonio-ruediger\">Antonio Rüdiger </a></strong>sempat bikin <strong><a href=\"https://www.detik.com/tag/eden-hazard\">Eden Hazard</a></strong> terkapar!</p>',\n",
              " '<p>Dilansir Marca, momen itu terlihat saat Madrid menggelar latihan pramusim, jelang laga melawan Barcelona di Las Vegas. Rüdiger dan Hazard menjadi sorotan.</p>',\n",
              " '<p><strong><a href=\"https://www.detik.com/tag/antonio-ruediger\">Rüdiger</a></strong>, yang baru didatangkan El Real musim panas ini, berlatih rondo atau \\'kucing-kucingan\\' dengan Hazard, yang juga mantan rekan setimnya di <strong><a href=\"https://www.detik.com/tag/chelsea\">Chelsea</a></strong>. Sampai tiba momen Rüdiger menunjukkan kemampuan tekelnya.</p>',\n",
              " '<p id=\"para_caption\" style=\"margin:0px;font-size:12px;padding:5px 0 5px 0; background-color:#204099;color:white;text-align:center;width:100%;left:0;display:block;\">\\r\\n    ADVERTISEMENT\\r\\n  </p>',\n",
              " '<p id=\"para_caption2\" style=\"margin:-20px 0px;font-size:12px;padding:5px 0 5px 0;background-color:#204099;color:white;text-align:center;width:100%;left:0;display:block;\">\\r\\n        SCROLL TO RESUME CONTENT\\r\\n  </p>',\n",
              " '<p>Rüdiger membuat tekel saat bola berada di kaki <strong><a href=\"https://www.detik.com/tag/eden-hazard\">Eden Hazard</a></strong>. Namun, tekelnya terlihat tidak sempurna.</p>',\n",
              " '<p>Terlihat <strong><a href=\"https://www.detik.com/tag/antonio-ruediger\">Rüdiger</a></strong> malah menerjang kaki kiri Hazard. Pemain Belgia itu langsung berteriak kesakitan, lalu terkapar.</p>',\n",
              " '<p><a href=\"https://twitter.com/ZachLowy/status/1550568926584750081?s=20&amp;t=5xtQ44L4LckSTZM71xmjBQ\" id=\"idtwitter\" class=\"embed twitter\">[Gambas:Twitter]</a></p>',\n",
              " '<p>Hazard sendiri tak lanjut berlatih rondo, bahkan sampai sesi latihan benar-benar tuntas. Meski begitu, kabarnya tak ada cedera didapat Hazard.</p>',\n",
              " '<p>Fans Madrid jelas was-was melihatnya. Apalagi dengan trek rekor Hazard yang diganggu masalah fisik, sejak dibeli <strong><a href=\"https://www.detik.com/tag/real-madrid\">Real Madrid</a></strong> dari <strong><a href=\"https://www.detik.com/tag/chelsea\">Chelsea</a></strong> pada 2020.</p>',\n",
              " '<p>Hazard banyak diterpa cedera sejak berkostum Real Madrid. Pemain berusia 31 tahun itu baru bermain 66 kali dan bikin 6 gol.</p>',\n",
              " '<p>Belum lama ini, Hazard juga baru menjalani operasi pemulihan engkelnya. Maka tekel <strong><a href=\"https://www.detik.com/tag/antonio-ruediger\">Rüdiger</a></strong> bisa saja membuatnya terancam terkapar lagi.</p>',\n",
              " '<p>Selanjutnya, <strong><a href=\"https://www.detik.com/tag/real-madrid\">Real Madrid</a></strong> akan melawan Barcelona di Allegiant Stadium, Las Vegas, Minggu (24/7/2022) WIB. <strong><a href=\"https://www.detik.com/tag/eden-hazard\">Eden Hazard</a></strong> bisa main usai kena tekel?</p>',\n",
              " '<p id=\"adv-caption-mr1\" style=\"display: block;font-family: montserrat, helvetica, arial;font-size: 11px;padding: 5px 20px;background-color: rgb(232 231 236);color: #4d4b4b;margin: -25px auto;position: absolute;left: 0;right: 0;text-align: right;font-weight: bold;\">\\r\\n   ADVERTISEMENT\\r\\n  </p>',\n",
              " '<p id=\"adv-caption-mr2\" style=\"display: block;font-family: montserrat, helvetica, arial;font-size: 11px;padding: 5px 15px;background-color: rgb(232 231 236);color: #4d4b4b;margin: -25px auto -10px;position: absolute;left: 0;right: 0;text-align: right;font-weight: bold;\">\\r\\n   ADVERTISEMENT\\r\\n</p>',\n",
              " '<p id=\"adv-caption-mr3\" style=\"display: block;font-family: montserrat, helvetica, arial;font-size: 11px;padding: 5px 15px;background-color: rgb(232 231 236);color: #4d4b4b;margin: -25px auto -10px;position: absolute;left: 0;right: 0;text-align: right;font-weight: bold;\">\\r\\n   ADVERTISEMENT\\r\\n</p>',\n",
              " '<p id=\"adv-caption-mr4\" style=\"display: block;font-family: montserrat, helvetica, arial;font-size: 11px;padding: 5px 15px;background-color: rgb(232 231 236);color: #4d4b4b;margin: -25px auto -10px;position: absolute;left: 0;right: 0;text-align: right;font-weight: bold;\">\\r\\n   ADVERTISEMENT\\r\\n</p>']"
            ]
          },
          "metadata": {},
          "execution_count": 8
        }
      ]
    }
  ]
}